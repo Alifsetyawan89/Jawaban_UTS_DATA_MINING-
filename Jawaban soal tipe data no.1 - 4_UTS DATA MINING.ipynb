{
 "cells": [
  {
   "cell_type": "code",
   "execution_count": 1,
   "id": "ff464f7e",
   "metadata": {},
   "outputs": [],
   "source": [
    "# data\n",
    "\n",
    "company_name_list = [{'name': 'Company 1'},\n",
    "          {'name': 'Company 2'},\n",
    "          {'name': 'Company 3'}]\n",
    "\n",
    "employee_name_list = [{'name': 'John Doe'},\n",
    "          {'name': 'Tom Smith'},\n",
    "          {'name': 'Andrew Sebastian'}]\n",
    "\n",
    "company_detail_list = {\n",
    "      'Company 1': {\n",
    "          'name': 'Company 1',\n",
    "          'domain': 'Retail',\n",
    "          'clients': [\n",
    "              {\n",
    "                  'name': 'acme.inc',\n",
    "                  'country': 'united states'\n",
    "              },\n",
    "              {\n",
    "                  'name': 'Wayne.co',\n",
    "                  'country': 'united states'\n",
    "              }\n",
    "          ]\n",
    "      },\n",
    "      'Company 2': {\n",
    "          'name': 'Company 2',\n",
    "          'domain': 'Construction',\n",
    "          'clients': [\n",
    "              {\n",
    "                  'name': 'Tesla',\n",
    "                  'country': 'united states'\n",
    "              },\n",
    "              {\n",
    "                  'name': 'Japan Airlines',\n",
    "                  'country': 'japan'\n",
    "              },\n",
    "              {\n",
    "                  'name': 'Indofood',\n",
    "                  'country': 'indonesia'\n",
    "              }\n",
    "          ]\n",
    "      },\n",
    "      'Company 3': {\n",
    "          'name': 'Company 3',\n",
    "          'domain': 'Healthcare',\n",
    "          'clients': [\n",
    "              {\n",
    "                  'name': 'Petronas',\n",
    "                  'country': 'malaysia'\n",
    "              },\n",
    "              {\n",
    "                  'name': 'VW Group',\n",
    "                  'country': 'germany'\n",
    "              },\n",
    "              {\n",
    "                  'name': 'IBM',\n",
    "                  'country': 'united states'\n",
    "              },\n",
    "              {\n",
    "                  'name': 'Mitsubishi',\n",
    "                  'country': 'japan'\n",
    "              }\n",
    "          ]\n",
    "      }\n",
    "  }\n",
    "\n",
    "employee_detail_list = {\n",
    "      'John Doe': {\n",
    "          'name': 'EMP-0001',\n",
    "          'first_name': 'John',\n",
    "          'last_name': 'Doe',\n",
    "          'full_name': 'John Doe',\n",
    "          'company': 'Company 1'\n",
    "      },\n",
    "      'Tom Smith': {\n",
    "          'name': 'EMP-0002',\n",
    "          'first_name': 'Tom',\n",
    "          'last_name': 'Smith',\n",
    "          'full_name': 'Tom Smith',\n",
    "          'company': 'Company 2'\n",
    "      },\n",
    "      'Andrew Sebastian': {\n",
    "          'name': 'EMP-0003',\n",
    "          'first_name': 'Andrew',\n",
    "          'last_name': 'Sebastian',\n",
    "          'full_name': 'Andrew Sebastian',\n",
    "          'company': 'Company 2'\n",
    "      },\n",
    "  }"
   ]
  },
  {
   "cell_type": "code",
   "execution_count": 2,
   "id": "cc02e7e7",
   "metadata": {},
   "outputs": [
    {
     "name": "stdout",
     "output_type": "stream",
     "text": [
      "[('John Doe', 'Retail'), ('Tom Smith', 'Construction'), ('Andrew Sebastian', 'Construction')]\n"
     ]
    }
   ],
   "source": [
    "employee_domain = [(employee['name'], company_detail_list[employee_detail_list[employee['name']]['company']]['domain']) for employee in employee_name_list]\n",
    "print(employee_domain)"
   ]
  },
  {
   "cell_type": "code",
   "execution_count": 3,
   "id": "07be7b35",
   "metadata": {},
   "outputs": [
    {
     "name": "stdout",
     "output_type": "stream",
     "text": [
      "['Tesla', 'Japan Airlines', 'Indofood']\n"
     ]
    }
   ],
   "source": [
    "andrew_company_name = employee_detail_list['Andrew Sebastian']['company']\n",
    "andrew_company_clients = [client['name'] for client in company_detail_list[andrew_company_name]['clients']]\n",
    "print(andrew_company_clients)"
   ]
  },
  {
   "cell_type": "code",
   "execution_count": 5,
   "id": "d85f9760",
   "metadata": {},
   "outputs": [
    {
     "name": "stdout",
     "output_type": "stream",
     "text": [
      "[]\n"
     ]
    }
   ],
   "source": [
    "healthcare_employees = [employee['name'] for employee in employee_name_list if employee_detail_list[employee['name']]['company'] == 'Company 3']\n",
    "print(healthcare_employees)"
   ]
  },
  {
   "cell_type": "code",
   "execution_count": 6,
   "id": "cbd4cf55",
   "metadata": {},
   "outputs": [
    {
     "name": "stdout",
     "output_type": "stream",
     "text": [
      "[]\n"
     ]
    }
   ],
   "source": [
    "healthcare_employees = [employee['name'] for employee in employee_name_list if employee_detail_list[employee['name']]['company'] == 'Company 3']\n",
    "print(healthcare_employees)"
   ]
  },
  {
   "cell_type": "code",
   "execution_count": 7,
   "id": "dfffb1cf",
   "metadata": {},
   "outputs": [
    {
     "name": "stdout",
     "output_type": "stream",
     "text": [
      "['acme.inc', 'Wayne.co', 'Tesla', 'Japan Airlines', 'Indofood', 'Petronas', 'VW Group', 'IBM', 'Mitsubishi']\n"
     ]
    }
   ],
   "source": [
    "all_clients = [client['name'] for company in company_detail_list.values() for client in company['clients']]\n",
    "print(all_clients)"
   ]
  },
  {
   "cell_type": "code",
   "execution_count": 8,
   "id": "820b0423",
   "metadata": {},
   "outputs": [],
   "source": [
    "all_companies = [{'name': company['name'], 'domain': company['domain']} for company in company_detail_list.values()]"
   ]
  },
  {
   "cell_type": "code",
   "execution_count": 9,
   "id": "71b75870",
   "metadata": {},
   "outputs": [],
   "source": [
    "Sorted_companies = sorted(all_companies, key=lambda x: x['domain'], reverse=True)"
   ]
  },
  {
   "cell_type": "code",
   "execution_count": 11,
   "id": "56644547",
   "metadata": {},
   "outputs": [
    {
     "name": "stdout",
     "output_type": "stream",
     "text": [
      "[{'name': 'Company 1', 'domain': 'Retail'}, {'name': 'Company 3', 'domain': 'Healthcare'}, {'name': 'Company 2', 'domain': 'Construction'}]\n"
     ]
    }
   ],
   "source": [
    "print(Sorted_companies)"
   ]
  },
  {
   "cell_type": "code",
   "execution_count": 12,
   "id": "2e955d48",
   "metadata": {},
   "outputs": [],
   "source": [
    "def sort_company():\n",
    "    # Mendapatkan daftar semua perusahaan\n",
    "    all_companies = [{'name': company['name'], 'domain': company['domain']} for company in company_detail_list.values()]\n",
    "    \n",
    "    # Mengurutkan daftar perusahaan berdasarkan domain dalam urutan terbalik\n",
    "    sorted_companies = sorted(all_companies, key=lambda x: x['domain'], reverse=True)\n",
    "    \n",
    "    return sorted_companies"
   ]
  },
  {
   "cell_type": "code",
   "execution_count": 13,
   "id": "d37ba01b",
   "metadata": {},
   "outputs": [
    {
     "name": "stdout",
     "output_type": "stream",
     "text": [
      "[{'name': 'Company 1', 'domain': 'Retail'}, {'name': 'Company 3', 'domain': 'Healthcare'}, {'name': 'Company 2', 'domain': 'Construction'}]\n"
     ]
    }
   ],
   "source": [
    "print(sort_company())"
   ]
  },
  {
   "cell_type": "code",
   "execution_count": 15,
   "id": "203168f4",
   "metadata": {},
   "outputs": [
    {
     "name": "stdout",
     "output_type": "stream",
     "text": [
      "Company 1: Retail, relation: 2 clients\n",
      "Company 2: Construction, relation: 3 clients\n",
      "Company 3: Healthcare, relation: 4 clients\n"
     ]
    }
   ],
   "source": [
    "def get_company_domain():\n",
    "    for company_name, company_info in company_detail_list.items():\n",
    "        domain = company_info['domain']\n",
    "        num_clients = len(company_info['clients'])\n",
    "        print(f\"{company_name}: {domain}, relation: {num_clients} clients\")\n",
    "        \n",
    "get_company_domain()"
   ]
  },
  {
   "cell_type": "code",
   "execution_count": null,
   "id": "8a37945a",
   "metadata": {},
   "outputs": [],
   "source": []
  },
  {
   "cell_type": "code",
   "execution_count": 16,
   "id": "59b19974",
   "metadata": {},
   "outputs": [
    {
     "name": "stdout",
     "output_type": "stream",
     "text": [
      "[{'full_name': 'John Doe', 'company': 'Company 1', 'domain': 'Retail'}, {'full_name': 'Tom Smith', 'company': 'Company 2', 'domain': 'Construction'}, {'full_name': 'Andrew Sebastian', 'company': 'Company 2', 'domain': 'Construction'}]\n"
     ]
    }
   ],
   "source": [
    "def get_employees():\n",
    "    employees_with_domain = []\n",
    "    for employee_name, employee_info in employee_detail_list.items():\n",
    "        full_name = employee_info['full_name']\n",
    "        company_name = employee_info['company']\n",
    "        domain = company_detail_list[company_name]['domain']\n",
    "        employees_with_domain.append({\n",
    "            'full_name': full_name,\n",
    "            'company': company_name,\n",
    "            'domain': domain\n",
    "        })\n",
    "    return employees_with_domain\n",
    "\n",
    "print(get_employees())"
   ]
  },
  {
   "cell_type": "code",
   "execution_count": null,
   "id": "f5d97ca2",
   "metadata": {},
   "outputs": [],
   "source": []
  },
  {
   "cell_type": "code",
   "execution_count": 17,
   "id": "e27a38ec",
   "metadata": {},
   "outputs": [
    {
     "name": "stdout",
     "output_type": "stream",
     "text": [
      "[{'company': 'Company 1', 'employees': ['John Doe']}, {'company': 'Company 2', 'employees': ['Tom Smith', 'Andrew Sebastian']}, {'company': 'Company 3', 'employees': []}]\n"
     ]
    }
   ],
   "source": [
    "def get_employees_by_company():\n",
    "    companies_with_employees = []\n",
    "    for company_name in company_detail_list.keys():\n",
    "        employees_in_company = [employee_info['full_name'] for employee_info in employee_detail_list.values() if employee_info['company'] == company_name]\n",
    "        companies_with_employees.append({\n",
    "            'company': company_name,\n",
    "            'employees': employees_in_company\n",
    "        })\n",
    "    return companies_with_employees\n",
    "\n",
    "print(get_employees_by_company())"
   ]
  },
  {
   "cell_type": "code",
   "execution_count": null,
   "id": "ab008510",
   "metadata": {},
   "outputs": [],
   "source": []
  },
  {
   "cell_type": "code",
   "execution_count": null,
   "id": "83112571",
   "metadata": {},
   "outputs": [],
   "source": []
  }
 ],
 "metadata": {
  "kernelspec": {
   "display_name": "Python 3 (ipykernel)",
   "language": "python",
   "name": "python3"
  },
  "language_info": {
   "codemirror_mode": {
    "name": "ipython",
    "version": 3
   },
   "file_extension": ".py",
   "mimetype": "text/x-python",
   "name": "python",
   "nbconvert_exporter": "python",
   "pygments_lexer": "ipython3",
   "version": "3.11.7"
  }
 },
 "nbformat": 4,
 "nbformat_minor": 5
}
